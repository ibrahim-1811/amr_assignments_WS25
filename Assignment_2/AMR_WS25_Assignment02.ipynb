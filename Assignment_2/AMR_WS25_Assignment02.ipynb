{
 "cells": [
  {
   "cell_type": "markdown",
   "id": "48edfdda",
   "metadata": {
    "deletable": false,
    "editable": false,
    "nbgrader": {
     "cell_type": "markdown",
     "checksum": "32064a297198bd529480a29d32e66958",
     "grade": false,
     "grade_id": "header",
     "locked": true,
     "schema_version": 3,
     "solution": false,
     "task": false
    }
   },
   "source": [
    "|        |        |        |\n",
    "|--------|--------|--------|\n",
    "![H-BRS](logos/h-brs.png) | ![A2S](logos/a2s.png) | ![b-it](logos/b-it.png) |\n",
    "\n",
    "# Autonomous Mobile Robots\n",
    "\n",
    "# AMR Assignment 2"
   ]
  },
  {
   "cell_type": "markdown",
   "id": "8f8dadca",
   "metadata": {
    "deletable": false,
    "editable": false,
    "nbassignment": {
     "type": "header"
    },
    "nbgrader": {
     "cell_type": "markdown",
     "checksum": "44f7ff21f9522a124e34b5d501542440",
     "grade": false,
     "grade_id": "preamble",
     "locked": true,
     "schema_version": 3,
     "solution": false,
     "task": false
    }
   },
   "source": [
    "### General information\n",
    "\n",
    "* Please do not add or delete any cells. Answers belong into the already provided cells (below the question).\n",
    "* If a function is given (either as a signature or a full function), you should not change the name, arguments, or return value of the function.\n",
    "* If you encounter empty cells underneath the answer that can not be edited, please ignore them; they are for testing purposes.\n",
    "* Please note that variables declared in the notebook cells have global scope. To make sure your assignment works correctly as a whole, please restart the kernel and run all cells before submitting (e.g. via *Kernel -> Restart & Run All*).\n",
    "* Code cells where you are supposed to give your answer often include the line  ```raise NotImplementedError```. This makes it easier to automatically grade answers. Once you fill out a function, please delete this line.\n",
    "\n",
    "### Submission\n",
    "\n",
    "Please make sure to write all your team members 2s IDs in the cell below before submission. Please submit your notebook via the JupyterHub web interface (in the main view -> Assignments -> Submit). If it is a group assignment, please make only one submission per group (for easier bookkeeping, it is best if this is always the same team member).\n",
    "\n",
    "### Questions about the assignment\n",
    "\n",
    "If you have questions about the assignment, you are encouraged to post them in the LEA forum. Proactive discussions lead to better understanding. Let's keep the forum active."
   ]
  },
  {
   "cell_type": "markdown",
   "id": "a77541f7",
   "metadata": {
    "deletable": false,
    "nbgrader": {
     "cell_type": "markdown",
     "checksum": "c214edb5291a96d02194fb59cf728f04",
     "grade": true,
     "grade_id": "team_members",
     "locked": false,
     "points": 0,
     "schema_version": 3,
     "solution": true,
     "task": false
    }
   },
   "source": [
    "## Team members (2s IDs):\n",
    "\n",
    "YOUR ANSWER HERE\n",
    "\n",
    "*mmemon2s\n",
    "*\n",
    "*"
   ]
  },
  {
   "cell_type": "markdown",
   "id": "3ee40db3",
   "metadata": {
    "deletable": false,
    "editable": false,
    "nbgrader": {
     "cell_type": "markdown",
     "checksum": "0e10272a72a3e2e94c0b51a3f2478a48",
     "grade": false,
     "grade_id": "multi_sensor_data_visual_analysis_Amulti_sensor_data_visual_analysis_Bmulti_sensor_data_visual_analysis_Cmulti_sensor_data_visual_analysis_Dmulti_sensor_data_visual_analysis_Emulti_sensor_data_visual_analysis_Fmulti_sensor_data_visual_analysis_Gmulti_sensor_data_visual_analysis_Hmulti_sensor_data_visual_analysis_I_Header",
     "locked": true,
     "schema_version": 3,
     "solution": false,
     "task": false
    }
   },
   "source": [
    "# A. Multi-sensor Data Visualisation, Analysis, and Filtering [50 Points]\n",
    "\n",
    "In this assignment, you will visualise the data from different sensors on the Robile; this includes 2D and 3D LiDARs, an IMU, and an RGB-D camera. You will particularly get accustomed to visualisation tools other than the standard ROS visualsation tool Rviz (in particular [`Foxglove`](https://foxglove.dev) and [`PlotJuggler`](https://github.com/facontidavide/PlotJuggler)), which you will use to detect some anomalies added to the LiDAR and RGB-D sensors, namely you will need to detect the approximate time or time range when these anomalies are introduced.\n",
    "\n",
    "In addition, you will apply different filtering methods to the data, such as mean  and median filtering over the 2D LiDAR data and IMU data.\n",
    "\n",
    "To work on this assignment, you need to download a ROS2 bag file that includes some data collected from the robot. The URL and password are as follows:\n",
    "* Bag file (3.1GB): https://nx21454.your-storageshare.de/s/jfTkS9NLtG6gWGp\n",
    "* Share password: `r0b!l3Rosbag?Da(ta*`\n",
    "\n",
    "**Note:** As the ROS-related packages are not installed in the e2x Jupyter server, please **download this notebook and work on it locally**. Then, for submitting, update the code cells in this notebook (on the e2x server) and include appropriate plots with your submission. **Please do NOT upload the bag file with the submission**."
   ]
  },
  {
   "cell_type": "markdown",
   "id": "19f1bd53",
   "metadata": {
    "deletable": false,
    "editable": false,
    "nbgrader": {
     "cell_type": "markdown",
     "checksum": "6e1724a26c2648abbac65387cd6d3f87",
     "grade": false,
     "grade_id": "multi_sensor_data_visual_analysis_A_Description0",
     "locked": true,
     "schema_version": 3,
     "solution": false,
     "task": false
    }
   },
   "source": [
    "Let us first import all necessary packages. You can uncomment the desired packages and import any other required packages."
   ]
  },
  {
   "cell_type": "code",
   "execution_count": null,
   "id": "3ab9a5b9",
   "metadata": {
    "ExecuteTime": {
     "end_time": "2024-04-22T07:35:07.006368Z",
     "start_time": "2024-04-22T07:35:07.002446Z"
    }
   },
   "outputs": [],
   "source": [
    "## Uncomment desired packages\n",
    "\n",
    "# import rclpy\n",
    "# import rosbag2_py\n",
    "# from rosbag2_py import StorageOptions, ConverterOptions, SequentialReader\n",
    "# import rosbags\n",
    "# from rosbags.serde import deserialize_cdr\n",
    "# from rosbags.rosbag2 import Reader\n",
    "# from rclpy.serialization import deserialize_message\n",
    "\n",
    "# from sensor_msgs.msg import LaserScan\n",
    "# from sensor_msgs.msg import PointCloud2\n",
    "# from sensor_msgs.msg import Image\n",
    "# from tf2_msgs.msg import TFMessage\n",
    "\n",
    "# import tf2_ros\n",
    "# import tf_transformations\n",
    "# from geometry_msgs.msg import Quaternion\n",
    "\n",
    "# import pandas as pd\n",
    "# import numpy as np\n",
    "# import matplotlib.pyplot as plt"
   ]
  },
  {
   "cell_type": "markdown",
   "id": "6ddd2589",
   "metadata": {
    "deletable": false,
    "editable": false,
    "nbgrader": {
     "cell_type": "markdown",
     "checksum": "86aa4a6847a42470ad81755dd19562ed",
     "grade": false,
     "grade_id": "multi_sensor_data_visual_analysis_A_Description1",
     "locked": true,
     "schema_version": 3,
     "solution": false,
     "task": false
    }
   },
   "source": [
    "## LiDAR visualisation [20 Points]\n",
    "\n",
    "An anomaly is introduced by covering the LiDAR sensor by an opaque object, because of which we lose the laser scan data for approximately 2 seconds. Using the `Foxglove` visualisation tool, find the approximate time period in which the 2D LiDAR was covered. After visualising the data, please take a screenshot of it and upload the screenshot to the `img` directory. Then, embed the screenshot in the markdown cell below using:\n",
    "\n",
    "```\n",
    "![lidar_visualisation_screenshot](img/file_name.png)\n",
    "```\n",
    "\n",
    "where `file_name` is the image file name, and comment on the results.\n",
    "\n",
    "**Notes:**\n",
    "* In `Foxglove` you can directly upload the `.db3` rosbag file and use the different panel options to visualise the data.\n",
    "* Due to the size of the data, it might not be possible to visualise all the data together in `Foxglove` based on your system configuration. Please thus only visualise the necessary data for the tasks. It is also recommended to download the tool locally instead of using the web application for better handling of large amounts of data.\n",
    "* In `PlotJuggler`, you can upload the `.yaml` file located in the directory of the `.db3` bag file and select the topics to be visualised in the prompt that is displayed after selecting yaml file. The corresponding fields can then be dragged and dropped for visualisation."
   ]
  },
  {
   "cell_type": "markdown",
   "id": "ddd1d299",
   "metadata": {
    "deletable": false,
    "nbgrader": {
     "cell_type": "markdown",
     "checksum": "627fa9d336ee3c6de1a271f5bfb5e3a8",
     "grade": true,
     "grade_id": "multi_sensor_data_visual_analysis_A",
     "locked": false,
     "points": 20,
     "schema_version": 3,
     "solution": true,
     "task": false
    }
   },
   "source": [
    "YOUR ANSWER HERE"
   ]
  },
  {
   "cell_type": "markdown",
   "id": "72029010",
   "metadata": {
    "deletable": false,
    "editable": false,
    "nbgrader": {
     "cell_type": "markdown",
     "checksum": "9ad73c1101c1b0bcb600a780a133265c",
     "grade": false,
     "grade_id": "multi_sensor_data_visual_analysis_B_Description0",
     "locked": true,
     "schema_version": 3,
     "solution": false,
     "task": false
    }
   },
   "source": [
    "## Visualisation of 3D LiDAR data from a RoboSense LiDAR [10 Points]\n",
    "\n",
    "Using `Foxglove`, take a screenshot of the 3D LiDAR data from the RoboSense at some arbitrary time instance and embed the image in the below cell."
   ]
  },
  {
   "cell_type": "markdown",
   "id": "f205d18d",
   "metadata": {
    "deletable": false,
    "nbgrader": {
     "cell_type": "markdown",
     "checksum": "18abc730191ab36e2a75fcfb9817f389",
     "grade": true,
     "grade_id": "multi_sensor_data_visual_analysis_B",
     "locked": false,
     "points": 10,
     "schema_version": 3,
     "solution": true,
     "task": false
    }
   },
   "source": [
    "YOUR ANSWER HERE"
   ]
  },
  {
   "cell_type": "markdown",
   "id": "e0140888",
   "metadata": {
    "deletable": false,
    "editable": false,
    "nbgrader": {
     "cell_type": "markdown",
     "checksum": "43ce0bca510ffdc9074ee8c9c1d177b1",
     "grade": false,
     "grade_id": "multi_sensor_data_visual_analysis_C_Description0",
     "locked": true,
     "schema_version": 3,
     "solution": false,
     "task": false
    }
   },
   "source": [
    "## RGB image visualisation [10 Points]\n",
    "\n",
    "Take a screenshot of the visualisation tool where an image from the RealSense camera is visible and embed the image in the cell below.\n",
    "\n",
    "**Hint:** You might take a look at different options under panel tab in `Foxglove`."
   ]
  },
  {
   "cell_type": "markdown",
   "id": "a011a4ef",
   "metadata": {
    "deletable": false,
    "nbgrader": {
     "cell_type": "markdown",
     "checksum": "00f441e5f77d16dd34d1e34855750c8b",
     "grade": true,
     "grade_id": "multi_sensor_data_visual_analysis_C",
     "locked": false,
     "points": 10,
     "schema_version": 3,
     "solution": true,
     "task": false
    }
   },
   "source": [
    "YOUR ANSWER HERE"
   ]
  },
  {
   "cell_type": "markdown",
   "id": "c72d2fa6",
   "metadata": {
    "deletable": false,
    "editable": false,
    "nbgrader": {
     "cell_type": "markdown",
     "checksum": "1600be679ab2b3570315163561334ccf",
     "grade": false,
     "grade_id": "multi_sensor_data_visual_analysis_D_Description0",
     "locked": true,
     "schema_version": 3,
     "solution": false,
     "task": false
    }
   },
   "source": [
    "## IMU data visualisation [10 Points]\n",
    "\n",
    "To record the scenario of impact on the robot, it is \"kicked\" after it comes to a halt. Using the IMU readings, find the time instance at which the robot detects this impact. As before, find the approximate time period in which the impact was detected. After visualising the data, please take a screenshot of it and embed it in the cell below.\n",
    "\n",
    "You can use either `Foxglove` or `PlotJuggler` to plot the IMU acceleraion readings. If you use `Foxglove`, it is helpful to simultaneously look at the robot moving and the corresponding IMU readings. A sample visualisation is shown below:\n",
    "\n",
    "![imu-visualisation-sample](img/imu-visualisation-sample.png)\n",
    "\n",
    "**Note**: Spikes in the IMU data are also caused by start of motion of the robot, so you should label the spikes in your screenshot accordingly."
   ]
  },
  {
   "cell_type": "markdown",
   "id": "3bb196bc",
   "metadata": {
    "deletable": false,
    "nbgrader": {
     "cell_type": "markdown",
     "checksum": "b57d726aceed6f451d37a502000018d6",
     "grade": true,
     "grade_id": "multi_sensor_data_visual_analysis_D",
     "locked": false,
     "points": 10,
     "schema_version": 3,
     "solution": true,
     "task": false
    }
   },
   "source": [
    "YOUR ANSWER HERE"
   ]
  },
  {
   "cell_type": "markdown",
   "id": "66d0cd30",
   "metadata": {
    "deletable": false,
    "editable": false,
    "nbgrader": {
     "cell_type": "markdown",
     "checksum": "aa9bc426a1ab55c8ac027226e0afdeac",
     "grade": false,
     "grade_id": "multi_sensor_data_visual_analysis_E_Description0",
     "locked": true,
     "schema_version": 3,
     "solution": false,
     "task": false
    }
   },
   "source": [
    "# B. Filtering [50 Points]\n",
    "\n",
    "As discussed in our lectures, sensor readings generally contain outliers and measurement noise. In this exercise, you will implement two data filtering techniques, namely mean and median filters, on the 2D LiDAR data and the IMU data.\n",
    "\n",
    "As in the previous part, please work on your local machine, and then only copy your code and include any necessary screenshots in this notebook.\n",
    "\n",
    "### Extraction of data from bag files [10 Points]\n",
    "\n",
    "Before looking into these filters, we will extract the necessary data from the bag files. In the cell below, extract both 2D LiDAR data and IMU acceleration data from the bag file. In particular, read the 2D LiDAR data for a particular time instance closest to some user-specified time, and also read the full IMU data from the bag file."
   ]
  },
  {
   "cell_type": "code",
   "execution_count": null,
   "id": "2fd93770",
   "metadata": {
    "deletable": false,
    "nbgrader": {
     "cell_type": "code",
     "checksum": "78f5df0b58d906636da20ae63f34155e",
     "grade": true,
     "grade_id": "multi_sensor_data_visual_analysis_E",
     "locked": false,
     "points": 10,
     "schema_version": 3,
     "solution": true,
     "task": false
    }
   },
   "outputs": [],
   "source": [
    "# YOUR CODE HERE\n",
    "raise NotImplementedError()"
   ]
  },
  {
   "cell_type": "markdown",
   "id": "a2f818b0",
   "metadata": {
    "deletable": false,
    "editable": false,
    "nbgrader": {
     "cell_type": "markdown",
     "checksum": "78bba555fcd0719eae5df2efe080f7de",
     "grade": false,
     "grade_id": "multi_sensor_data_visual_analysis_F_Description0",
     "locked": true,
     "schema_version": 3,
     "solution": false,
     "task": false
    }
   },
   "source": [
    "\n",
    "### Median filter of 2D LiDAR data [10 Points]\n",
    "\n",
    "The idea behind a median filter is to use a sliding window of specific length in order to replace the central point in the window by the median of the points in the whole window. The median filter is a low-pass filter that removes outliers in the sensor data.\n",
    "\n",
    "Your task is to apply the median filter on the 2D LiDAR data at a predefined time instance (you can experiment with the size of the sliding window). For this particular time instance, plot the `x` vs `y` coordinates of the 2D LiDAR data before and after applying the filter.\n",
    "\n",
    "Please refer to this [wiki page](https://en.wikipedia.org/wiki/Median_filter) for an example of filtering 1D data.\n",
    "\n",
    "**Note:** Please remember to include a title, grid, axes labels, and a legend in your plot."
   ]
  },
  {
   "cell_type": "code",
   "execution_count": null,
   "id": "360672b0",
   "metadata": {
    "deletable": false,
    "nbgrader": {
     "cell_type": "code",
     "checksum": "7e3ab2a6cd4e95292f09041bd61ebe6a",
     "grade": true,
     "grade_id": "multi_sensor_data_visual_analysis_F",
     "locked": false,
     "points": 10,
     "schema_version": 3,
     "solution": true,
     "task": false
    }
   },
   "outputs": [],
   "source": [
    "# YOUR CODE HERE\n",
    "raise NotImplementedError()"
   ]
  },
  {
   "cell_type": "markdown",
   "id": "ad4f58e3",
   "metadata": {
    "deletable": false,
    "editable": false,
    "nbgrader": {
     "cell_type": "markdown",
     "checksum": "7d45c62ab290eebb3afadde63d291056",
     "grade": false,
     "grade_id": "multi_sensor_data_visual_analysis_G_Description0",
     "locked": true,
     "schema_version": 3,
     "solution": false,
     "task": false
    }
   },
   "source": [
    "\n",
    "### Median filtering of IMU data [10 Points]\n",
    "\n",
    "Now, perform median filtering of the IMU acceleration over the y-axis. Then, plot the time vs. acceleration before and after filtering."
   ]
  },
  {
   "cell_type": "code",
   "execution_count": null,
   "id": "bf60bfe1",
   "metadata": {
    "deletable": false,
    "nbgrader": {
     "cell_type": "code",
     "checksum": "a6848c52cb289086bd3801bad7bcf9b8",
     "grade": true,
     "grade_id": "multi_sensor_data_visual_analysis_G",
     "locked": false,
     "points": 10,
     "schema_version": 3,
     "solution": true,
     "task": false
    }
   },
   "outputs": [],
   "source": [
    "# YOUR CODE HERE\n",
    "raise NotImplementedError()"
   ]
  },
  {
   "cell_type": "markdown",
   "id": "3a0deefc",
   "metadata": {
    "deletable": false,
    "editable": false,
    "nbgrader": {
     "cell_type": "markdown",
     "checksum": "fc250c90e33a1b98b9b2a82309e6acc6",
     "grade": false,
     "grade_id": "multi_sensor_data_visual_analysis_H_Description0",
     "locked": true,
     "schema_version": 3,
     "solution": false,
     "task": false
    }
   },
   "source": [
    "\n",
    "### Mean filtering of 2D LiDAR data [10 Points]\n",
    "\n",
    "The mean filter operates similarly to the median filter; however, the point under consideration is replaced by the mean of all points in the same window. This is generally used to smoothen the noise in the data rather than eliminate it fully.\n",
    "\n",
    "Your task is to apply the mean filter on the 2D LiDAR data at the same time instance as before (again, you can experiment with the size of the sliding window). For this particular time instance, plot the `x` vs `y` coordinates of the 2D LiDAR data before and after applying the filter."
   ]
  },
  {
   "cell_type": "code",
   "execution_count": null,
   "id": "b0dd2b13",
   "metadata": {
    "deletable": false,
    "nbgrader": {
     "cell_type": "code",
     "checksum": "ccbea65821d27afc03fbcf08e637c0a6",
     "grade": true,
     "grade_id": "multi_sensor_data_visual_analysis_H",
     "locked": false,
     "points": 10,
     "schema_version": 3,
     "solution": true,
     "task": false
    }
   },
   "outputs": [],
   "source": [
    "# YOUR CODE HERE\n",
    "raise NotImplementedError()"
   ]
  },
  {
   "cell_type": "markdown",
   "id": "4860de2b",
   "metadata": {
    "deletable": false,
    "editable": false,
    "nbgrader": {
     "cell_type": "markdown",
     "checksum": "770a8f7018d6167b50808ef24bb8b44c",
     "grade": false,
     "grade_id": "multi_sensor_data_visual_analysis_I_Description0",
     "locked": true,
     "schema_version": 3,
     "solution": false,
     "task": false
    }
   },
   "source": [
    "\n",
    "### Mean filtering of 2D IMU data [10 Points]\n",
    "\n",
    "Finally, perform mean filtering of the IMU acceleration over the y-axis. Then, plot the time vs. acceleration before and after filtering."
   ]
  },
  {
   "cell_type": "code",
   "execution_count": null,
   "id": "7b1449d1",
   "metadata": {
    "deletable": false,
    "nbgrader": {
     "cell_type": "code",
     "checksum": "ee9cf8aa0772bcd381f516db3c0eb7c9",
     "grade": true,
     "grade_id": "multi_sensor_data_visual_analysis_I",
     "locked": false,
     "points": 10,
     "schema_version": 3,
     "solution": true,
     "task": false
    }
   },
   "outputs": [],
   "source": [
    "# YOUR CODE HERE\n",
    "raise NotImplementedError()"
   ]
  }
 ],
 "metadata": {
  "kernelspec": {
   "display_name": "Python 3 (ipykernel)",
   "language": "python",
   "name": "python3"
  },
  "language_info": {
   "codemirror_mode": {
    "name": "ipython",
    "version": 3
   },
   "file_extension": ".py",
   "mimetype": "text/x-python",
   "name": "python",
   "nbconvert_exporter": "python",
   "pygments_lexer": "ipython3",
   "version": "3.11.4"
  }
 },
 "nbformat": 4,
 "nbformat_minor": 5
}
